{
 "cells": [
  {
   "cell_type": "code",
   "execution_count": 1,
   "metadata": {},
   "outputs": [
    {
     "name": "stdout",
     "output_type": "stream",
     "text": [
      "    Driver                VIN       vir          Plant Location  \\\n",
      "0    milan  WDB1240902F206403  70084726  Barons Auctioneers Ltd   \n",
      "1   kieran  YS2S6X20009265677  10433720            NVD Rosslare   \n",
      "2      con  WV1ZZZSYZK9062717  70088980             Dublin Port   \n",
      "3      jan  WV1ZZZSYZL9018482  40552636         NVD Ringaskiddy   \n",
      "4  crosbie  WV1ZZZSYZL9021243  21227347             Dublin Port   \n",
      "\n",
      "            Start Location Code                Start Location  \\\n",
      "0                     BALDONNEL                 NVD Baldonnel   \n",
      "1                      ROSSLARE                  NVD Rosslare   \n",
      "2  051.870247000-008.4827050000  Blackwater Motors Volkswagen   \n",
      "3                   RINGASKIDDY               NVD Ringaskiddy   \n",
      "4                   DUBLIN_PORT                   Dublin Port   \n",
      "\n",
      "                      Target Location          Target Location Code  \\\n",
      "0  Maguire Warehouse Estate Units 2&3  052.652732000-008.5660720000   \n",
      "1                SM Components Antrim  054.678647999-005.9840419900   \n",
      "2                     Automotive Team  053.274118998-006.2158870000   \n",
      "3                       NVD Baldonnel                     BALDONNEL   \n",
      "4            Limerick Frank Hogan Ltd  052.664230000-008.6039500000   \n",
      "\n",
      "                       targetstreet targetzip  ... perunitusedistance  \\\n",
      "0                         Dock Road   V94X9W9  ...          22.234556   \n",
      "1  Newtownabbey, Unit G 9 Mitchelin   BT364PT  ...         204.736000   \n",
      "2                  86-87 Furze Road   D18W1W7  ...         262.170000   \n",
      "3                               NaN  D22 AV20  ...          83.736667   \n",
      "4                       Dublin Road  V94 X583  ...         211.351000   \n",
      "\n",
      "  perunitemptydistance  driverbonusmultiplier  bonusearned targetcountry  \\\n",
      "0                0.000                    3.0        18.81            IE   \n",
      "1                0.000                    3.0        18.81            NI   \n",
      "2               42.678                    3.0        18.81            IE   \n",
      "3                0.000                    3.0        18.81            IE   \n",
      "4              141.838                    3.0        18.81            IE   \n",
      "\n",
      "  startcountry      Make  Chassis  dlr_code  SLA Compliant  \n",
      "0           IE  HGV LOHR      NaN       NaN          (yes)  \n",
      "1           IE       TEA  9265677    TEA_SM            yes  \n",
      "2           IE        VW   303513       NaN            yes  \n",
      "3           IE        VW   305735   VWC_088            NaN  \n",
      "4           IE        VW   306145   VWC_460            yes  \n",
      "\n",
      "[5 rows x 61 columns]\n"
     ]
    }
   ],
   "source": [
    "#import pandas package\n",
    "import pandas as pd\n",
    "\n",
    "#import dataset\n",
    "car_data = pd.read_excel('Rohit.xlsx', header=0, sep=',', engine='openpyxl')\n",
    "\n",
    "#print first 5 rows\n",
    "print(car_data.head())"
   ]
  },
  {
   "cell_type": "code",
   "execution_count": 2,
   "metadata": {},
   "outputs": [
    {
     "name": "stdout",
     "output_type": "stream",
     "text": [
      "<class 'pandas.core.frame.DataFrame'>\n",
      "RangeIndex: 105410 entries, 0 to 105409\n",
      "Data columns (total 61 columns):\n",
      "Driver                   101943 non-null object\n",
      "VIN                      105410 non-null object\n",
      "vir                      105350 non-null object\n",
      "Plant Location           105404 non-null object\n",
      "Start Location Code      105410 non-null object\n",
      "Start Location           105410 non-null object\n",
      "Target Location          105410 non-null object\n",
      "Target Location Code     105410 non-null object\n",
      "targetstreet             89484 non-null object\n",
      "targetzip                75073 non-null object\n",
      "To city                  101060 non-null object\n",
      "targetstate              101061 non-null object\n",
      "targetgpseast            105410 non-null float64\n",
      "targetgpsnorth           105410 non-null float64\n",
      "Start Date               105337 non-null object\n",
      "End Date                 105410 non-null object\n",
      "distance                 105410 non-null float64\n",
      "ghdistance               92630 non-null float64\n",
      "Dist. from Previous      101942 non-null float64\n",
      "tourapproach             62979 non-null float64\n",
      "Franchise                105407 non-null object\n",
      "Distributor              71410 non-null object\n",
      "Tour                     101948 non-null float64\n",
      "Model                    105365 non-null object\n",
      "vehiclegroup             105363 non-null object\n",
      "CEU                      105365 non-null float64\n",
      "External Ref 1           1913 non-null object\n",
      "External Ref 2           4751 non-null object\n",
      "Final Organization       84942 non-null object\n",
      "Final Location           103267 non-null object\n",
      "finalsz                  103267 non-null object\n",
      "startsz                  105410 non-null object\n",
      "targetsz                 105410 non-null object\n",
      "Target Delivery Time     103471 non-null object\n",
      "Order Time               104353 non-null object\n",
      "Trailer type             89852 non-null object\n",
      "transportorderno         105410 non-null int64\n",
      "Transport TDT            103838 non-null object\n",
      "outboundport             0 non-null float64\n",
      "inboundport              0 non-null float64\n",
      "income                   74748 non-null float64\n",
      "dropsequence             101948 non-null float64\n",
      "Truck                    88342 non-null object\n",
      "startedby                105215 non-null object\n",
      "completedby              105410 non-null object\n",
      "Team                     96159 non-null object\n",
      "finallz                  103267 non-null object\n",
      "Work Type                105410 non-null object\n",
      "driverbonusrate          104905 non-null float64\n",
      "driverbonuszone          104905 non-null object\n",
      "driverbonusdistance      104903 non-null float64\n",
      "perunitusedistance       101934 non-null float64\n",
      "perunitemptydistance     101945 non-null float64\n",
      "driverbonusmultiplier    104903 non-null float64\n",
      "bonusearned              104903 non-null float64\n",
      "targetcountry            105410 non-null object\n",
      "startcountry             105410 non-null object\n",
      "Make                     105364 non-null object\n",
      "Chassis                  88012 non-null object\n",
      "dlr_code                 84942 non-null object\n",
      "SLA Compliant            90789 non-null object\n",
      "dtypes: float64(18), int64(1), object(42)\n",
      "memory usage: 49.1+ MB\n"
     ]
    }
   ],
   "source": [
    "#check info of data\n",
    "car_data.info()"
   ]
  },
  {
   "cell_type": "code",
   "execution_count": 3,
   "metadata": {},
   "outputs": [],
   "source": [
    "#delete irrelevant columns\n",
    "car_data.drop(car_data.columns[[1,2,3,4,7,8,9,10,11,12,13,16,17,18,19,20,21,23,24,26,27,28,30,31,32,35,36,37,38,39,40,41,42,43,44,45,46,47,48,49,50,51,52,53,54,55,56,57,58,59,60]], axis=1, inplace=True)"
   ]
  },
  {
   "cell_type": "code",
   "execution_count": 4,
   "metadata": {},
   "outputs": [
    {
     "name": "stdout",
     "output_type": "stream",
     "text": [
      "<class 'pandas.core.frame.DataFrame'>\n",
      "RangeIndex: 105410 entries, 0 to 105409\n",
      "Data columns (total 10 columns):\n",
      "Driver                  101943 non-null object\n",
      "Start Location          105410 non-null object\n",
      "Target Location         105410 non-null object\n",
      "Start Date              105337 non-null object\n",
      "End Date                105410 non-null object\n",
      "Tour                    101948 non-null float64\n",
      "CEU                     105365 non-null float64\n",
      "Final Location          103267 non-null object\n",
      "Target Delivery Time    103471 non-null object\n",
      "Order Time              104353 non-null object\n",
      "dtypes: float64(2), object(8)\n",
      "memory usage: 8.0+ MB\n"
     ]
    }
   ],
   "source": [
    "car_data.info()"
   ]
  },
  {
   "cell_type": "code",
   "execution_count": 5,
   "metadata": {},
   "outputs": [
    {
     "data": {
      "text/plain": [
       "Driver                  3467\n",
       "Start Location             0\n",
       "Target Location            0\n",
       "Start Date                73\n",
       "End Date                   0\n",
       "Tour                    3462\n",
       "CEU                       45\n",
       "Final Location          2143\n",
       "Target Delivery Time    1939\n",
       "Order Time              1057\n",
       "dtype: int64"
      ]
     },
     "execution_count": 5,
     "metadata": {},
     "output_type": "execute_result"
    }
   ],
   "source": [
    "#check for nan values\n",
    "car_data.isna().sum()"
   ]
  },
  {
   "cell_type": "code",
   "execution_count": 6,
   "metadata": {},
   "outputs": [],
   "source": [
    "#drop rows that contain nan values\n",
    "car_data.dropna(axis=0, inplace=True)"
   ]
  },
  {
   "cell_type": "code",
   "execution_count": 7,
   "metadata": {},
   "outputs": [
    {
     "data": {
      "text/plain": [
       "(98620, 10)"
      ]
     },
     "execution_count": 7,
     "metadata": {},
     "output_type": "execute_result"
    }
   ],
   "source": [
    "#check updated dimension of data\n",
    "car_data.shape"
   ]
  },
  {
   "cell_type": "code",
   "execution_count": 8,
   "metadata": {},
   "outputs": [
    {
     "name": "stdout",
     "output_type": "stream",
     "text": [
      "0    0.000309\n",
      "1    0.000308\n",
      "2    0.000310\n",
      "3    0.000307\n",
      "4    0.000307\n",
      "Name: Avg_CEU_per_tour, dtype: float64\n"
     ]
    }
   ],
   "source": [
    "#create a new column that computes average CEU per tour\n",
    "car_data['Avg_CEU_per_tour'] = car_data['CEU'].mean()/car_data['Tour']\n",
    "\n",
    "#print first 5 rows of this new column\n",
    "print(car_data['Avg_CEU_per_tour'].head())"
   ]
  },
  {
   "cell_type": "code",
   "execution_count": 9,
   "metadata": {},
   "outputs": [],
   "source": [
    "#export cleaned and modified data to CSV file\n",
    "car_data.to_csv(r'C:\\Users\\John Uzoma\\Documents\\DBS_MASTERS\\miscellaneous\\data_science\\datasets\\modified_Rohit.csv', index=False)"
   ]
  }
 ],
 "metadata": {
  "kernelspec": {
   "display_name": "Python 3",
   "language": "python",
   "name": "python3"
  },
  "language_info": {
   "codemirror_mode": {
    "name": "ipython",
    "version": 3
   },
   "file_extension": ".py",
   "mimetype": "text/x-python",
   "name": "python",
   "nbconvert_exporter": "python",
   "pygments_lexer": "ipython3",
   "version": "3.6.9"
  }
 },
 "nbformat": 4,
 "nbformat_minor": 2
}
